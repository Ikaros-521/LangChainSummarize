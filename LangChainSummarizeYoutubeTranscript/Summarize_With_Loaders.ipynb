{
  "cells": [
    {
      "cell_type": "markdown",
      "metadata": {
        "colab_type": "text",
        "id": "view-in-github"
      },
      "source": [
        "<a href=\"https://colab.research.google.com/github/sugarforever/LangChainSummarizeYoutubeTranscript/blob/main/LangChainSummarizeYoutubeTranscript.ipynb\" target=\"_parent\"><img src=\"https://colab.research.google.com/assets/colab-badge.svg\" alt=\"Open In Colab\"/></a>"
      ]
    },
    {
      "attachments": {},
      "cell_type": "markdown",
      "metadata": {},
      "source": [
        "# Introduction\n",
        "\n",
        "This is an example that shows you how to use document loaders to summarize the following resources:\n",
        "1. URL\n",
        "2. PowerPoint\n",
        "3. ReadTheDocs site\n",
        "4. PDF"
      ]
    },
    {
      "cell_type": "code",
      "execution_count": 66,
      "metadata": {
        "id": "hZlVnW5zvOM_"
      },
      "outputs": [
        {
          "name": "stdout",
          "output_type": "stream",
          "text": [
            "Requirement already satisfied: openai in /Users/wyang14/.pyenv/versions/3.9.16/lib/python3.9/site-packages (0.27.2)\n",
            "Requirement already satisfied: requests>=2.20 in /Users/wyang14/.pyenv/versions/3.9.16/lib/python3.9/site-packages (from openai) (2.28.2)\n",
            "Requirement already satisfied: tqdm in /Users/wyang14/.pyenv/versions/3.9.16/lib/python3.9/site-packages (from openai) (4.65.0)\n",
            "Requirement already satisfied: aiohttp in /Users/wyang14/.pyenv/versions/3.9.16/lib/python3.9/site-packages (from openai) (3.7.4.post0)\n",
            "Requirement already satisfied: urllib3<1.27,>=1.21.1 in /Users/wyang14/.pyenv/versions/3.9.16/lib/python3.9/site-packages (from requests>=2.20->openai) (1.26.15)\n",
            "Requirement already satisfied: charset-normalizer<4,>=2 in /Users/wyang14/.pyenv/versions/3.9.16/lib/python3.9/site-packages (from requests>=2.20->openai) (3.1.0)\n",
            "Requirement already satisfied: idna<4,>=2.5 in /Users/wyang14/.pyenv/versions/3.9.16/lib/python3.9/site-packages (from requests>=2.20->openai) (3.4)\n",
            "Requirement already satisfied: certifi>=2017.4.17 in /Users/wyang14/.pyenv/versions/3.9.16/lib/python3.9/site-packages (from requests>=2.20->openai) (2022.12.7)\n",
            "Requirement already satisfied: chardet<5.0,>=2.0 in /Users/wyang14/.pyenv/versions/3.9.16/lib/python3.9/site-packages (from aiohttp->openai) (4.0.0)\n",
            "Requirement already satisfied: attrs>=17.3.0 in /Users/wyang14/.pyenv/versions/3.9.16/lib/python3.9/site-packages (from aiohttp->openai) (22.2.0)\n",
            "Requirement already satisfied: async-timeout<4.0,>=3.0 in /Users/wyang14/.pyenv/versions/3.9.16/lib/python3.9/site-packages (from aiohttp->openai) (3.0.1)\n",
            "Requirement already satisfied: yarl<2.0,>=1.0 in /Users/wyang14/.pyenv/versions/3.9.16/lib/python3.9/site-packages (from aiohttp->openai) (1.8.2)\n",
            "Requirement already satisfied: typing-extensions>=3.6.5 in /Users/wyang14/.pyenv/versions/3.9.16/lib/python3.9/site-packages (from aiohttp->openai) (4.5.0)\n",
            "Requirement already satisfied: multidict<7.0,>=4.5 in /Users/wyang14/.pyenv/versions/3.9.16/lib/python3.9/site-packages (from aiohttp->openai) (6.0.4)\n",
            "Note: you may need to restart the kernel to use updated packages.\n",
            "Requirement already satisfied: langchain==0.0.139 in /Users/wyang14/.pyenv/versions/3.9.16/lib/python3.9/site-packages (0.0.139)\n",
            "Requirement already satisfied: SQLAlchemy<2,>=1 in /Users/wyang14/.pyenv/versions/3.9.16/lib/python3.9/site-packages (from langchain==0.0.139) (1.4.47)\n",
            "Requirement already satisfied: pydantic<2,>=1 in /Users/wyang14/.pyenv/versions/3.9.16/lib/python3.9/site-packages (from langchain==0.0.139) (1.10.7)\n",
            "Requirement already satisfied: tenacity<9.0.0,>=8.1.0 in /Users/wyang14/.pyenv/versions/3.9.16/lib/python3.9/site-packages (from langchain==0.0.139) (8.2.2)\n",
            "Collecting aiohttp<4.0.0,>=3.8.3\n",
            "  Using cached aiohttp-3.8.4-cp39-cp39-macosx_10_9_x86_64.whl (360 kB)\n",
            "Requirement already satisfied: numpy<2,>=1 in /Users/wyang14/.pyenv/versions/3.9.16/lib/python3.9/site-packages (from langchain==0.0.139) (1.23.5)\n",
            "Requirement already satisfied: requests<3,>=2 in /Users/wyang14/.pyenv/versions/3.9.16/lib/python3.9/site-packages (from langchain==0.0.139) (2.28.2)\n",
            "Collecting async-timeout<5.0.0,>=4.0.0\n",
            "  Using cached async_timeout-4.0.2-py3-none-any.whl (5.8 kB)\n",
            "Requirement already satisfied: PyYAML>=5.4.1 in /Users/wyang14/.pyenv/versions/3.9.16/lib/python3.9/site-packages (from langchain==0.0.139) (5.4.1)\n",
            "Requirement already satisfied: openapi-schema-pydantic<2.0,>=1.2 in /Users/wyang14/.pyenv/versions/3.9.16/lib/python3.9/site-packages (from langchain==0.0.139) (1.2.4)\n",
            "Requirement already satisfied: dataclasses-json<0.6.0,>=0.5.7 in /Users/wyang14/.pyenv/versions/3.9.16/lib/python3.9/site-packages (from langchain==0.0.139) (0.5.7)\n",
            "Requirement already satisfied: gptcache>=0.1.7 in /Users/wyang14/.pyenv/versions/3.9.16/lib/python3.9/site-packages (from langchain==0.0.139) (0.1.10)\n",
            "Requirement already satisfied: charset-normalizer<4.0,>=2.0 in /Users/wyang14/.pyenv/versions/3.9.16/lib/python3.9/site-packages (from aiohttp<4.0.0,>=3.8.3->langchain==0.0.139) (3.1.0)\n",
            "Requirement already satisfied: frozenlist>=1.1.1 in /Users/wyang14/.pyenv/versions/3.9.16/lib/python3.9/site-packages (from aiohttp<4.0.0,>=3.8.3->langchain==0.0.139) (1.3.3)\n",
            "Requirement already satisfied: attrs>=17.3.0 in /Users/wyang14/.pyenv/versions/3.9.16/lib/python3.9/site-packages (from aiohttp<4.0.0,>=3.8.3->langchain==0.0.139) (22.2.0)\n",
            "Requirement already satisfied: aiosignal>=1.1.2 in /Users/wyang14/.pyenv/versions/3.9.16/lib/python3.9/site-packages (from aiohttp<4.0.0,>=3.8.3->langchain==0.0.139) (1.3.1)\n",
            "Requirement already satisfied: yarl<2.0,>=1.0 in /Users/wyang14/.pyenv/versions/3.9.16/lib/python3.9/site-packages (from aiohttp<4.0.0,>=3.8.3->langchain==0.0.139) (1.8.2)\n",
            "Requirement already satisfied: multidict<7.0,>=4.5 in /Users/wyang14/.pyenv/versions/3.9.16/lib/python3.9/site-packages (from aiohttp<4.0.0,>=3.8.3->langchain==0.0.139) (6.0.4)\n",
            "Requirement already satisfied: marshmallow<4.0.0,>=3.3.0 in /Users/wyang14/.pyenv/versions/3.9.16/lib/python3.9/site-packages (from dataclasses-json<0.6.0,>=0.5.7->langchain==0.0.139) (3.19.0)\n",
            "Requirement already satisfied: typing-inspect>=0.4.0 in /Users/wyang14/.pyenv/versions/3.9.16/lib/python3.9/site-packages (from dataclasses-json<0.6.0,>=0.5.7->langchain==0.0.139) (0.8.0)\n",
            "Requirement already satisfied: marshmallow-enum<2.0.0,>=1.5.1 in /Users/wyang14/.pyenv/versions/3.9.16/lib/python3.9/site-packages (from dataclasses-json<0.6.0,>=0.5.7->langchain==0.0.139) (1.5.1)\n",
            "Requirement already satisfied: openai in /Users/wyang14/.pyenv/versions/3.9.16/lib/python3.9/site-packages (from gptcache>=0.1.7->langchain==0.0.139) (0.27.2)\n",
            "Requirement already satisfied: cachetools in /Users/wyang14/.pyenv/versions/3.9.16/lib/python3.9/site-packages (from gptcache>=0.1.7->langchain==0.0.139) (5.3.0)\n",
            "Requirement already satisfied: typing-extensions>=4.2.0 in /Users/wyang14/.pyenv/versions/3.9.16/lib/python3.9/site-packages (from pydantic<2,>=1->langchain==0.0.139) (4.5.0)\n",
            "Requirement already satisfied: urllib3<1.27,>=1.21.1 in /Users/wyang14/.pyenv/versions/3.9.16/lib/python3.9/site-packages (from requests<3,>=2->langchain==0.0.139) (1.26.15)\n",
            "Requirement already satisfied: certifi>=2017.4.17 in /Users/wyang14/.pyenv/versions/3.9.16/lib/python3.9/site-packages (from requests<3,>=2->langchain==0.0.139) (2022.12.7)\n",
            "Requirement already satisfied: idna<4,>=2.5 in /Users/wyang14/.pyenv/versions/3.9.16/lib/python3.9/site-packages (from requests<3,>=2->langchain==0.0.139) (3.4)\n",
            "Requirement already satisfied: greenlet!=0.4.17 in /Users/wyang14/.pyenv/versions/3.9.16/lib/python3.9/site-packages (from SQLAlchemy<2,>=1->langchain==0.0.139) (2.0.2)\n",
            "Requirement already satisfied: packaging>=17.0 in /Users/wyang14/.pyenv/versions/3.9.16/lib/python3.9/site-packages (from marshmallow<4.0.0,>=3.3.0->dataclasses-json<0.6.0,>=0.5.7->langchain==0.0.139) (23.0)\n",
            "Requirement already satisfied: mypy-extensions>=0.3.0 in /Users/wyang14/.pyenv/versions/3.9.16/lib/python3.9/site-packages (from typing-inspect>=0.4.0->dataclasses-json<0.6.0,>=0.5.7->langchain==0.0.139) (1.0.0)\n",
            "Requirement already satisfied: tqdm in /Users/wyang14/.pyenv/versions/3.9.16/lib/python3.9/site-packages (from openai->gptcache>=0.1.7->langchain==0.0.139) (4.65.0)\n",
            "Installing collected packages: async-timeout, aiohttp\n",
            "  Attempting uninstall: async-timeout\n",
            "    Found existing installation: async-timeout 3.0.1\n",
            "    Uninstalling async-timeout-3.0.1:\n",
            "      Successfully uninstalled async-timeout-3.0.1\n",
            "  Attempting uninstall: aiohttp\n",
            "    Found existing installation: aiohttp 3.7.4.post0\n",
            "    Uninstalling aiohttp-3.7.4.post0:\n",
            "      Successfully uninstalled aiohttp-3.7.4.post0\n",
            "\u001b[31mERROR: pip's dependency resolver does not currently take into account all the packages that are installed. This behaviour is the source of the following dependency conflicts.\n",
            "bilibili-api 9.1.0 requires aiohttp~=3.7.4.post0, but you have aiohttp 3.8.4 which is incompatible.\u001b[0m\u001b[31m\n",
            "\u001b[0mSuccessfully installed aiohttp-3.8.4 async-timeout-4.0.2\n",
            "Note: you may need to restart the kernel to use updated packages.\n",
            "Requirement already satisfied: unstructured in /Users/wyang14/.pyenv/versions/3.9.16/lib/python3.9/site-packages (0.5.11)\n",
            "Requirement already satisfied: argilla in /Users/wyang14/.pyenv/versions/3.9.16/lib/python3.9/site-packages (from unstructured) (1.5.1)\n",
            "Requirement already satisfied: lxml in /Users/wyang14/.pyenv/versions/3.9.16/lib/python3.9/site-packages (from unstructured) (4.6.5)\n",
            "Requirement already satisfied: msg_parser in /Users/wyang14/.pyenv/versions/3.9.16/lib/python3.9/site-packages (from unstructured) (1.2.0)\n",
            "Requirement already satisfied: nltk in /Users/wyang14/.pyenv/versions/3.9.16/lib/python3.9/site-packages (from unstructured) (3.8.1)\n",
            "Requirement already satisfied: openpyxl in /Users/wyang14/.pyenv/versions/3.9.16/lib/python3.9/site-packages (from unstructured) (3.1.2)\n",
            "Requirement already satisfied: pandas in /Users/wyang14/.pyenv/versions/3.9.16/lib/python3.9/site-packages (from unstructured) (1.5.3)\n",
            "Requirement already satisfied: pillow in /Users/wyang14/.pyenv/versions/3.9.16/lib/python3.9/site-packages (from unstructured) (9.5.0)\n",
            "Requirement already satisfied: pypandoc in /Users/wyang14/.pyenv/versions/3.9.16/lib/python3.9/site-packages (from unstructured) (1.11)\n",
            "Requirement already satisfied: python-docx in /Users/wyang14/.pyenv/versions/3.9.16/lib/python3.9/site-packages (from unstructured) (0.8.11)\n",
            "Requirement already satisfied: python-pptx in /Users/wyang14/.pyenv/versions/3.9.16/lib/python3.9/site-packages (from unstructured) (0.6.21)\n",
            "Requirement already satisfied: python-magic in /Users/wyang14/.pyenv/versions/3.9.16/lib/python3.9/site-packages (from unstructured) (0.4.27)\n",
            "Requirement already satisfied: markdown in /Users/wyang14/.pyenv/versions/3.9.16/lib/python3.9/site-packages (from unstructured) (3.4.3)\n",
            "Requirement already satisfied: requests in /Users/wyang14/.pyenv/versions/3.9.16/lib/python3.9/site-packages (from unstructured) (2.28.2)\n",
            "Requirement already satisfied: certifi>=2022.12.07 in /Users/wyang14/.pyenv/versions/3.9.16/lib/python3.9/site-packages (from unstructured) (2022.12.7)\n",
            "Requirement already satisfied: packaging>=20.0 in /Users/wyang14/.pyenv/versions/3.9.16/lib/python3.9/site-packages (from argilla->unstructured) (23.0)\n",
            "Requirement already satisfied: httpx<0.24,>=0.15 in /Users/wyang14/.pyenv/versions/3.9.16/lib/python3.9/site-packages (from argilla->unstructured) (0.23.3)\n",
            "Requirement already satisfied: deprecated~=1.2.0 in /Users/wyang14/.pyenv/versions/3.9.16/lib/python3.9/site-packages (from argilla->unstructured) (1.2.13)\n",
            "Requirement already satisfied: wrapt<1.15,>=1.13 in /Users/wyang14/.pyenv/versions/3.9.16/lib/python3.9/site-packages (from argilla->unstructured) (1.14.1)\n",
            "Requirement already satisfied: pydantic>=1.7.1 in /Users/wyang14/.pyenv/versions/3.9.16/lib/python3.9/site-packages (from argilla->unstructured) (1.10.7)\n",
            "Requirement already satisfied: numpy<1.24.0 in /Users/wyang14/.pyenv/versions/3.9.16/lib/python3.9/site-packages (from argilla->unstructured) (1.23.5)\n",
            "Requirement already satisfied: monotonic in /Users/wyang14/.pyenv/versions/3.9.16/lib/python3.9/site-packages (from argilla->unstructured) (1.6)\n",
            "Requirement already satisfied: backoff in /Users/wyang14/.pyenv/versions/3.9.16/lib/python3.9/site-packages (from argilla->unstructured) (2.2.1)\n",
            "Requirement already satisfied: tqdm>=4.27.0 in /Users/wyang14/.pyenv/versions/3.9.16/lib/python3.9/site-packages (from argilla->unstructured) (4.65.0)\n",
            "Requirement already satisfied: rich<=13.0.1 in /Users/wyang14/.pyenv/versions/3.9.16/lib/python3.9/site-packages (from argilla->unstructured) (13.0.1)\n",
            "Requirement already satisfied: pytz>=2020.1 in /Users/wyang14/.pyenv/versions/3.9.16/lib/python3.9/site-packages (from pandas->unstructured) (2023.2)\n",
            "Requirement already satisfied: python-dateutil>=2.8.1 in /Users/wyang14/.pyenv/versions/3.9.16/lib/python3.9/site-packages (from pandas->unstructured) (2.8.2)\n",
            "Requirement already satisfied: importlib-metadata>=4.4 in /Users/wyang14/.pyenv/versions/3.9.16/lib/python3.9/site-packages (from markdown->unstructured) (6.1.0)\n",
            "Requirement already satisfied: olefile>=0.46 in /Users/wyang14/.pyenv/versions/3.9.16/lib/python3.9/site-packages (from msg_parser->unstructured) (0.46)\n",
            "Requirement already satisfied: click in /Users/wyang14/.pyenv/versions/3.9.16/lib/python3.9/site-packages (from nltk->unstructured) (8.1.3)\n",
            "Requirement already satisfied: regex>=2021.8.3 in /Users/wyang14/.pyenv/versions/3.9.16/lib/python3.9/site-packages (from nltk->unstructured) (2023.3.23)\n",
            "Requirement already satisfied: joblib in /Users/wyang14/.pyenv/versions/3.9.16/lib/python3.9/site-packages (from nltk->unstructured) (1.2.0)\n",
            "Requirement already satisfied: et-xmlfile in /Users/wyang14/.pyenv/versions/3.9.16/lib/python3.9/site-packages (from openpyxl->unstructured) (1.1.0)\n",
            "Requirement already satisfied: XlsxWriter>=0.5.7 in /Users/wyang14/.pyenv/versions/3.9.16/lib/python3.9/site-packages (from python-pptx->unstructured) (3.0.9)\n",
            "Requirement already satisfied: urllib3<1.27,>=1.21.1 in /Users/wyang14/.pyenv/versions/3.9.16/lib/python3.9/site-packages (from requests->unstructured) (1.26.15)\n",
            "Requirement already satisfied: idna<4,>=2.5 in /Users/wyang14/.pyenv/versions/3.9.16/lib/python3.9/site-packages (from requests->unstructured) (3.4)\n",
            "Requirement already satisfied: charset-normalizer<4,>=2 in /Users/wyang14/.pyenv/versions/3.9.16/lib/python3.9/site-packages (from requests->unstructured) (3.1.0)\n",
            "Requirement already satisfied: rfc3986[idna2008]<2,>=1.3 in /Users/wyang14/.pyenv/versions/3.9.16/lib/python3.9/site-packages (from httpx<0.24,>=0.15->argilla->unstructured) (1.5.0)\n",
            "Requirement already satisfied: httpcore<0.17.0,>=0.15.0 in /Users/wyang14/.pyenv/versions/3.9.16/lib/python3.9/site-packages (from httpx<0.24,>=0.15->argilla->unstructured) (0.16.3)\n",
            "Requirement already satisfied: sniffio in /Users/wyang14/.pyenv/versions/3.9.16/lib/python3.9/site-packages (from httpx<0.24,>=0.15->argilla->unstructured) (1.3.0)\n",
            "Requirement already satisfied: zipp>=0.5 in /Users/wyang14/.pyenv/versions/3.9.16/lib/python3.9/site-packages (from importlib-metadata>=4.4->markdown->unstructured) (3.15.0)\n",
            "Requirement already satisfied: typing-extensions>=4.2.0 in /Users/wyang14/.pyenv/versions/3.9.16/lib/python3.9/site-packages (from pydantic>=1.7.1->argilla->unstructured) (4.5.0)\n",
            "Requirement already satisfied: six>=1.5 in /Users/wyang14/.pyenv/versions/3.9.16/lib/python3.9/site-packages (from python-dateutil>=2.8.1->pandas->unstructured) (1.16.0)\n",
            "Requirement already satisfied: commonmark<0.10.0,>=0.9.0 in /Users/wyang14/.pyenv/versions/3.9.16/lib/python3.9/site-packages (from rich<=13.0.1->argilla->unstructured) (0.9.1)\n",
            "Requirement already satisfied: pygments<3.0.0,>=2.6.0 in /Users/wyang14/.pyenv/versions/3.9.16/lib/python3.9/site-packages (from rich<=13.0.1->argilla->unstructured) (2.14.0)\n",
            "Requirement already satisfied: anyio<5.0,>=3.0 in /Users/wyang14/.pyenv/versions/3.9.16/lib/python3.9/site-packages (from httpcore<0.17.0,>=0.15.0->httpx<0.24,>=0.15->argilla->unstructured) (3.6.2)\n",
            "Requirement already satisfied: h11<0.15,>=0.13 in /Users/wyang14/.pyenv/versions/3.9.16/lib/python3.9/site-packages (from httpcore<0.17.0,>=0.15.0->httpx<0.24,>=0.15->argilla->unstructured) (0.14.0)\n",
            "Note: you may need to restart the kernel to use updated packages.\n",
            "Requirement already satisfied: tiktoken in /Users/wyang14/.pyenv/versions/3.9.16/lib/python3.9/site-packages (0.3.2)\n",
            "Requirement already satisfied: requests>=2.26.0 in /Users/wyang14/.pyenv/versions/3.9.16/lib/python3.9/site-packages (from tiktoken) (2.28.2)\n",
            "Requirement already satisfied: regex>=2022.1.18 in /Users/wyang14/.pyenv/versions/3.9.16/lib/python3.9/site-packages (from tiktoken) (2023.3.23)\n",
            "Requirement already satisfied: certifi>=2017.4.17 in /Users/wyang14/.pyenv/versions/3.9.16/lib/python3.9/site-packages (from requests>=2.26.0->tiktoken) (2022.12.7)\n",
            "Requirement already satisfied: charset-normalizer<4,>=2 in /Users/wyang14/.pyenv/versions/3.9.16/lib/python3.9/site-packages (from requests>=2.26.0->tiktoken) (3.1.0)\n",
            "Requirement already satisfied: urllib3<1.27,>=1.21.1 in /Users/wyang14/.pyenv/versions/3.9.16/lib/python3.9/site-packages (from requests>=2.26.0->tiktoken) (1.26.15)\n",
            "Requirement already satisfied: idna<4,>=2.5 in /Users/wyang14/.pyenv/versions/3.9.16/lib/python3.9/site-packages (from requests>=2.26.0->tiktoken) (3.4)\n",
            "Note: you may need to restart the kernel to use updated packages.\n"
          ]
        }
      ],
      "source": [
        "%pip install openai\n",
        "%pip install langchain==0.0.139\n",
        "%pip install unstructured\n",
        "%pip install tiktoken"
      ]
    },
    {
      "cell_type": "code",
      "execution_count": 67,
      "metadata": {
        "id": "5lZp3p97vZPy"
      },
      "outputs": [],
      "source": [
        "import os\n",
        "from langchain.document_loaders import UnstructuredURLLoader, UnstructuredPowerPointLoader, ReadTheDocsLoader, PyPDFLoader\n",
        "from langchain.llms import OpenAI\n",
        "from langchain.chains.summarize import load_summarize_chain\n",
        "from langchain.callbacks import get_openai_callback\n",
        "from langchain.text_splitter import RecursiveCharacterTextSplitter"
      ]
    },
    {
      "cell_type": "code",
      "execution_count": 68,
      "metadata": {},
      "outputs": [],
      "source": [
        "def summarize_docs(docs, doc_url):\n",
        "    print (f'You have {len(docs)} document(s) in your {doc_url} data')\n",
        "    print (f'There are {len(docs[0].page_content)} characters in your document')\n",
        "\n",
        "    text_splitter = RecursiveCharacterTextSplitter(chunk_size=1000, chunk_overlap=0)\n",
        "    split_docs = text_splitter.split_documents(docs)\n",
        "\n",
        "    print (f'You have {len(split_docs)} split document(s)')\n",
        "\n",
        "    OPENAI_API_KEY = os.environ['OPENAI_API_KEY']\n",
        "    llm = OpenAI(temperature=0, openai_api_key=OPENAI_API_KEY, model_name=\"text-davinci-003\")\n",
        "    chain = load_summarize_chain(llm, chain_type=\"map_reduce\", verbose=False)\n",
        "\n",
        "    response = \"\"\n",
        "    with get_openai_callback() as cb:\n",
        "        response = chain.run(input_documents=split_docs)\n",
        "        print(f\"Total Tokens: {cb.total_tokens}\")\n",
        "        print(f\"Prompt Tokens: {cb.prompt_tokens}\")\n",
        "        print(f\"Completion Tokens: {cb.completion_tokens}\")\n",
        "        print(f\"Successful Requests: {cb.successful_requests}\")\n",
        "        print(f\"Total Cost (USD): ${cb.total_cost}\")\n",
        "\n",
        "    return response"
      ]
    },
    {
      "attachments": {},
      "cell_type": "markdown",
      "metadata": {},
      "source": [
        "1. Load a web page by its URL and get its content summarized."
      ]
    },
    {
      "cell_type": "code",
      "execution_count": 69,
      "metadata": {},
      "outputs": [
        {
          "name": "stdout",
          "output_type": "stream",
          "text": [
            "You have 1 document(s) in your https://edition.cnn.com/2023/04/13/business/delta-earnings/index.html data\n",
            "There are 2780 characters in your document\n",
            "You have 4 split document(s)\n",
            "Total Tokens: 1416\n",
            "Prompt Tokens: 980\n",
            "Completion Tokens: 436\n",
            "Successful Requests: 2\n",
            "Total Cost (USD): $0.02832\n"
          ]
        },
        {
          "data": {
            "text/plain": [
              "' Delta Airlines reported record advanced bookings for the summer, indicating a recovery from pandemic-related losses. Despite a one-time charge of $864 million related to a four-year labor deal with pilots, the company reported a net profit when excluding special items. Revenue was up 45% from a year earlier and 14% from the same period in 2019. Additionally, a passenger was taken into custody after opening a door of a Boeing 737 and deploying an emergency exit slide at Los Angeles International Airport. Delta Airlines is expecting earnings per share of between $2 and $2.25, and between $5 and $6 for the full year. Other major US airlines are likely to face rising labor costs due to upcoming negotiations with a majority of their employees.'"
            ]
          },
          "execution_count": 69,
          "metadata": {},
          "output_type": "execute_result"
        }
      ],
      "source": [
        "url = \"https://edition.cnn.com/2023/04/13/business/delta-earnings/index.html\"\n",
        "summarize_docs(UnstructuredURLLoader(urls = [url]).load(), url)"
      ]
    },
    {
      "attachments": {},
      "cell_type": "markdown",
      "metadata": {},
      "source": [
        "2. Load PowerPoint file and get its content summarized."
      ]
    },
    {
      "cell_type": "code",
      "execution_count": 70,
      "metadata": {},
      "outputs": [
        {
          "name": "stdout",
          "output_type": "stream",
          "text": [
            "--2023-04-13 23:38:31--  https://github.com/tomw1808/truffle_eth_class2/blob/master/s08/Web3-intro.pptx?raw=true\n",
            "Resolving github.com (github.com)... 140.82.121.4\n",
            "Connecting to github.com (github.com)|140.82.121.4|:443... connected.\n",
            "HTTP request sent, awaiting response... 302 Found\n",
            "Location: https://github.com/tomw1808/truffle_eth_class2/raw/master/s08/Web3-intro.pptx [following]\n",
            "--2023-04-13 23:38:31--  https://github.com/tomw1808/truffle_eth_class2/raw/master/s08/Web3-intro.pptx\n",
            "Reusing existing connection to github.com:443.\n",
            "HTTP request sent, awaiting response... 302 Found\n",
            "Location: https://raw.githubusercontent.com/tomw1808/truffle_eth_class2/master/s08/Web3-intro.pptx [following]\n",
            "--2023-04-13 23:38:31--  https://raw.githubusercontent.com/tomw1808/truffle_eth_class2/master/s08/Web3-intro.pptx\n",
            "Resolving raw.githubusercontent.com (raw.githubusercontent.com)... 2606:50c0:8000::154, 2606:50c0:8002::154, 2606:50c0:8001::154, ...\n",
            "Connecting to raw.githubusercontent.com (raw.githubusercontent.com)|2606:50c0:8000::154|:443... connected.\n",
            "HTTP request sent, awaiting response... 200 OK\n",
            "Length: 2598023 (2.5M) [application/octet-stream]\n",
            "Saving to: ‘Web3-intro.pptx’\n",
            "\n",
            "Web3-intro.pptx     100%[===================>]   2.48M  6.63MB/s    in 0.4s    \n",
            "\n",
            "2023-04-13 23:38:32 (6.63 MB/s) - ‘Web3-intro.pptx’ saved [2598023/2598023]\n",
            "\n"
          ]
        }
      ],
      "source": [
        "\n",
        "!wget \"https://github.com/tomw1808/truffle_eth_class2/blob/master/s08/Web3-intro.pptx?raw=true\" -O Web3-intro.pptx"
      ]
    },
    {
      "cell_type": "code",
      "execution_count": 71,
      "metadata": {},
      "outputs": [
        {
          "name": "stdout",
          "output_type": "stream",
          "text": [
            "You have 1 document(s) in your Web3-intro.pptx data\n",
            "There are 864 characters in your document\n",
            "You have 1 split document(s)\n",
            "Total Tokens: 531\n",
            "Prompt Tokens: 408\n",
            "Completion Tokens: 123\n",
            "Successful Requests: 2\n",
            "Total Cost (USD): $0.01062\n",
            " Web3 is a Javascript library that enables users to interact with the blockchain via the json-RPC interface. It connects the browser to the blockchain via port 8545 and provides practical examples such as connecting to the Ethereum Wiki and getting the balance of an account.\n"
          ]
        }
      ],
      "source": [
        "loader = UnstructuredPowerPointLoader(\"Web3-intro.pptx\")\n",
        "response = summarize_docs(loader.load(), \"Web3-intro.pptx\")\n",
        "print(response)"
      ]
    },
    {
      "attachments": {},
      "cell_type": "markdown",
      "metadata": {},
      "source": [
        "3. Load readthedocs project and get its content summarized."
      ]
    },
    {
      "cell_type": "code",
      "execution_count": 72,
      "metadata": {},
      "outputs": [
        {
          "name": "stdout",
          "output_type": "stream",
          "text": [
            "--2023-04-13 23:42:04--  https://langchain.readthedocs.io/en/latest/\n",
            "Resolving langchain.readthedocs.io (langchain.readthedocs.io)... 2606:4700::6811:2152, 2606:4700::6811:2052, 104.17.32.82, ...\n",
            "Connecting to langchain.readthedocs.io (langchain.readthedocs.io)|2606:4700::6811:2152|:443... connected.\n",
            "HTTP request sent, awaiting response... 302 Found\n",
            "Location: https://python.langchain.com/en/latest/ [following]\n",
            "--2023-04-13 23:42:04--  https://python.langchain.com/en/latest/\n",
            "Resolving python.langchain.com (python.langchain.com)... 2606:4700::6811:2052, 2606:4700::6811:2152, 104.17.32.82, ...\n",
            "Connecting to python.langchain.com (python.langchain.com)|2606:4700::6811:2052|:443... connected.\n",
            "HTTP request sent, awaiting response... 200 OK\n",
            "Length: unspecified [text/html]\n",
            "Saving to: ‘langchain/langchain.readthedocs.io/en/latest/index.html’\n",
            "\n",
            "langchain.readthedo     [ <=>                ]  78.21K  --.-KB/s    in 0.05s   \n",
            "\n",
            "2023-04-13 23:42:04 (1.62 MB/s) - ‘langchain/langchain.readthedocs.io/en/latest/index.html’ saved [80091]\n",
            "\n",
            "FINISHED --2023-04-13 23:42:04--\n",
            "Total wall clock time: 0.5s\n",
            "Downloaded: 1 files, 78K in 0.05s (1.62 MB/s)\n"
          ]
        }
      ],
      "source": [
        "!wget -r -A.html -P langchain \"https://langchain.readthedocs.io/en/latest/\""
      ]
    },
    {
      "cell_type": "code",
      "execution_count": 73,
      "metadata": {},
      "outputs": [
        {
          "name": "stdout",
          "output_type": "stream",
          "text": [
            "You have 1 document(s) in your langchain data\n",
            "There are 5350 characters in your document\n",
            "You have 6 split document(s)\n",
            "Total Tokens: 2123\n",
            "Prompt Tokens: 1644\n",
            "Completion Tokens: 479\n",
            "Successful Requests: 2\n",
            "Total Cost (USD): $0.04246\n"
          ]
        },
        {
          "data": {
            "text/plain": [
              "' LangChain is a framework for developing applications powered by language models. It provides modules for models, prompts, memory, indexes, and chains, as well as resources such as the LangChainHub, a glossary, a gallery, deployments, and tracing guides. ModelLaboratory is a platform that makes it easy to experiment with different prompts, models, and chains. There is a Discord to discuss LangChain, and production support is available with a dedicated Slack channel. The Quickstart Guide provides information on getting started, modules, use cases, reference docs, LangChain Ecosystem, and additional resources.'"
            ]
          },
          "execution_count": 73,
          "metadata": {},
          "output_type": "execute_result"
        }
      ],
      "source": [
        "loader = ReadTheDocsLoader(\"langchain\")\n",
        "summarize_docs(loader.load(), \"langchain\")"
      ]
    },
    {
      "attachments": {},
      "cell_type": "markdown",
      "metadata": {},
      "source": [
        "4. Load PDF file by URL and get its content summarized."
      ]
    },
    {
      "cell_type": "code",
      "execution_count": 74,
      "metadata": {},
      "outputs": [
        {
          "name": "stdout",
          "output_type": "stream",
          "text": [
            "--2023-04-13 23:45:16--  https://ir.tesla.com/_flysystem/s3/sec/000095017023001409/tsla-20221231-gen.pdf\n",
            "Resolving ir.tesla.com (ir.tesla.com)... 2a02:26f0:9b00:39d::700, 2a02:26f0:9b00:393::700, 92.122.160.52\n",
            "Connecting to ir.tesla.com (ir.tesla.com)|2a02:26f0:9b00:39d::700|:443... connected.\n",
            "HTTP request sent, awaiting response... 200 OK\n",
            "Length: unspecified [application/pdf]\n",
            "Saving to: ‘tsla-20221231-gen.pdf’\n",
            "\n",
            "tsla-20221231-gen.p     [  <=>               ]   1.57M  5.48MB/s    in 0.3s    \n",
            "\n",
            "2023-04-13 23:45:17 (5.48 MB/s) - ‘tsla-20221231-gen.pdf’ saved [1650825]\n",
            "\n"
          ]
        }
      ],
      "source": [
        "!wget \"https://ir.tesla.com/_flysystem/s3/sec/000095017023001409/tsla-20221231-gen.pdf\" -O tsla-20221231-gen.pdf"
      ]
    },
    {
      "cell_type": "code",
      "execution_count": 75,
      "metadata": {},
      "outputs": [
        {
          "name": "stdout",
          "output_type": "stream",
          "text": [
            "Requirement already satisfied: pypdf in /Users/wyang14/.pyenv/versions/3.9.16/lib/python3.9/site-packages (3.7.1)\n",
            "Requirement already satisfied: typing_extensions>=3.10.0.0 in /Users/wyang14/.pyenv/versions/3.9.16/lib/python3.9/site-packages (from pypdf) (4.5.0)\n",
            "Note: you may need to restart the kernel to use updated packages.\n"
          ]
        }
      ],
      "source": [
        "%pip install pypdf"
      ]
    },
    {
      "cell_type": "code",
      "execution_count": 76,
      "metadata": {},
      "outputs": [
        {
          "name": "stdout",
          "output_type": "stream",
          "text": [
            "You have 10 document(s) in your tsla-20221231-gen.pdf data\n",
            "There are 3793 characters in your document\n",
            "You have 30 split document(s)\n",
            "Total Tokens: 14889\n",
            "Prompt Tokens: 12541\n",
            "Completion Tokens: 2348\n",
            "Successful Requests: 2\n",
            "Total Cost (USD): $0.29778\n"
          ]
        },
        {
          "data": {
            "text/plain": [
              "\" Tesla, Inc. has released its annual report on Form 10-K for the year ended December 31, 2022. The report includes information on the company's business, risk factors, unresolved staff comments, properties, legal proceedings, mine safety disclosures, market for the company's common equity, management's discussion and analysis of financial condition and results of operations, quantitative and qualitative disclosures about market risk, financial statements and supplementary data, changes in and disagreements with accountants on accounting and financial disclosure, controls and procedures, other information, and disclosure regarding foreign jurisdictions that prevent inspections. Tesla designs, develops, manufactures, sells, and leases high-performance electric vehicles and energy generation and storage systems, and offers related services. They offer leasing and loan financing arrangements for vehicles in North America, Europe, and Asia, and provide resale value guarantees or buyback guarantees in certain programs. They also offer an extensive network of Supercharger stops for their vehicles, with payment or free access depending on certain sales programs.\""
            ]
          },
          "execution_count": 76,
          "metadata": {},
          "output_type": "execute_result"
        }
      ],
      "source": [
        "loader = PyPDFLoader(\"tsla-20221231-gen.pdf\")\n",
        "pages = loader.load_and_split()\n",
        "summarize_docs(pages[:10], \"tsla-20221231-gen.pdf\")"
      ]
    }
  ],
  "metadata": {
    "colab": {
      "authorship_tag": "ABX9TyMmoN24WxC9YPbZeCUtS0+a",
      "include_colab_link": true,
      "provenance": []
    },
    "kernelspec": {
      "display_name": "Python 3",
      "name": "python3"
    },
    "language_info": {
      "codemirror_mode": {
        "name": "ipython",
        "version": 3
      },
      "file_extension": ".py",
      "mimetype": "text/x-python",
      "name": "python",
      "nbconvert_exporter": "python",
      "pygments_lexer": "ipython3",
      "version": "3.9.16"
    }
  },
  "nbformat": 4,
  "nbformat_minor": 0
}
